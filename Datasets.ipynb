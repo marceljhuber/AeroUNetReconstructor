{
 "cells": [
  {
   "cell_type": "code",
   "execution_count": 1,
   "id": "3ff8a8d3-65f6-4513-883b-81f4801e51e0",
   "metadata": {},
   "outputs": [
    {
     "name": "stderr",
     "output_type": "stream",
     "text": [
      "100%|████████████████████████████████████████████████████████████████████████| 390521/390521 [00:58<00:00, 6668.67it/s]\n"
     ]
    },
    {
     "name": "stdout",
     "output_type": "stream",
     "text": [
      "Length before dropping rows with None values: 390521\n",
      "Length after dropping rows with None values: 385152\n"
     ]
    },
    {
     "data": {
      "text/html": [
       "<div>\n",
       "<style scoped>\n",
       "    .dataframe tbody tr th:only-of-type {\n",
       "        vertical-align: middle;\n",
       "    }\n",
       "\n",
       "    .dataframe tbody tr th {\n",
       "        vertical-align: top;\n",
       "    }\n",
       "\n",
       "    .dataframe thead th {\n",
       "        text-align: right;\n",
       "    }\n",
       "</style>\n",
       "<table border=\"1\" class=\"dataframe\">\n",
       "  <thead>\n",
       "    <tr style=\"text-align: right;\">\n",
       "      <th></th>\n",
       "      <th>Path</th>\n",
       "      <th>Filename</th>\n",
       "    </tr>\n",
       "  </thead>\n",
       "  <tbody>\n",
       "    <tr>\n",
       "      <th>0</th>\n",
       "      <td>D:\\CV_Project\\datasets\\20230912\\Part1\\0_0_GT_p...</td>\n",
       "      <td>0_0_GT_pose_0_thermal.png</td>\n",
       "    </tr>\n",
       "    <tr>\n",
       "      <th>1</th>\n",
       "      <td>D:\\CV_Project\\datasets\\20230912\\Part1\\0_0_pose...</td>\n",
       "      <td>0_0_pose_0_thermal.png</td>\n",
       "    </tr>\n",
       "    <tr>\n",
       "      <th>2</th>\n",
       "      <td>D:\\CV_Project\\datasets\\20230912\\Part1\\0_0_pose...</td>\n",
       "      <td>0_0_pose_1_thermal.png</td>\n",
       "    </tr>\n",
       "    <tr>\n",
       "      <th>3</th>\n",
       "      <td>D:\\CV_Project\\datasets\\20230912\\Part1\\0_0_pose...</td>\n",
       "      <td>0_0_pose_2_thermal.png</td>\n",
       "    </tr>\n",
       "    <tr>\n",
       "      <th>4</th>\n",
       "      <td>D:\\CV_Project\\datasets\\20230912\\Part1\\0_0_pose...</td>\n",
       "      <td>0_0_pose_3_thermal.png</td>\n",
       "    </tr>\n",
       "    <tr>\n",
       "      <th>...</th>\n",
       "      <td>...</td>\n",
       "      <td>...</td>\n",
       "    </tr>\n",
       "    <tr>\n",
       "      <th>385147</th>\n",
       "      <td>D:\\CV_Project\\datasets\\20231027\\Part2\\2_11000_...</td>\n",
       "      <td>2_11000_pose_6_thermal.png</td>\n",
       "    </tr>\n",
       "    <tr>\n",
       "      <th>385148</th>\n",
       "      <td>D:\\CV_Project\\datasets\\20231027\\Part2\\2_11000_...</td>\n",
       "      <td>2_11000_pose_7_thermal.png</td>\n",
       "    </tr>\n",
       "    <tr>\n",
       "      <th>385149</th>\n",
       "      <td>D:\\CV_Project\\datasets\\20231027\\Part2\\2_11000_...</td>\n",
       "      <td>2_11000_pose_8_thermal.png</td>\n",
       "    </tr>\n",
       "    <tr>\n",
       "      <th>385150</th>\n",
       "      <td>D:\\CV_Project\\datasets\\20231027\\Part2\\2_11000_...</td>\n",
       "      <td>2_11000_pose_9_thermal.png</td>\n",
       "    </tr>\n",
       "    <tr>\n",
       "      <th>385151</th>\n",
       "      <td>D:\\CV_Project\\datasets\\20231027\\Part2\\2_11000_...</td>\n",
       "      <td>2_11000_pose_10_thermal.png</td>\n",
       "    </tr>\n",
       "  </tbody>\n",
       "</table>\n",
       "<p>385152 rows × 2 columns</p>\n",
       "</div>"
      ],
      "text/plain": [
       "                                                     Path  \\\n",
       "0       D:\\CV_Project\\datasets\\20230912\\Part1\\0_0_GT_p...   \n",
       "1       D:\\CV_Project\\datasets\\20230912\\Part1\\0_0_pose...   \n",
       "2       D:\\CV_Project\\datasets\\20230912\\Part1\\0_0_pose...   \n",
       "3       D:\\CV_Project\\datasets\\20230912\\Part1\\0_0_pose...   \n",
       "4       D:\\CV_Project\\datasets\\20230912\\Part1\\0_0_pose...   \n",
       "...                                                   ...   \n",
       "385147  D:\\CV_Project\\datasets\\20231027\\Part2\\2_11000_...   \n",
       "385148  D:\\CV_Project\\datasets\\20231027\\Part2\\2_11000_...   \n",
       "385149  D:\\CV_Project\\datasets\\20231027\\Part2\\2_11000_...   \n",
       "385150  D:\\CV_Project\\datasets\\20231027\\Part2\\2_11000_...   \n",
       "385151  D:\\CV_Project\\datasets\\20231027\\Part2\\2_11000_...   \n",
       "\n",
       "                           Filename  \n",
       "0         0_0_GT_pose_0_thermal.png  \n",
       "1            0_0_pose_0_thermal.png  \n",
       "2            0_0_pose_1_thermal.png  \n",
       "3            0_0_pose_2_thermal.png  \n",
       "4            0_0_pose_3_thermal.png  \n",
       "...                             ...  \n",
       "385147   2_11000_pose_6_thermal.png  \n",
       "385148   2_11000_pose_7_thermal.png  \n",
       "385149   2_11000_pose_8_thermal.png  \n",
       "385150   2_11000_pose_9_thermal.png  \n",
       "385151  2_11000_pose_10_thermal.png  \n",
       "\n",
       "[385152 rows x 2 columns]"
      ]
     },
     "execution_count": 1,
     "metadata": {},
     "output_type": "execute_result"
    }
   ],
   "source": [
    "import os\n",
    "import glob\n",
    "import re\n",
    "import pandas as pd\n",
    "from collections import defaultdict\n",
    "from tqdm import tqdm\n",
    "\n",
    "# Regular expression for numerical sorting\n",
    "numbers = re.compile(r'(\\d+)')\n",
    "\n",
    "# Function for numerical sorting\n",
    "def numericalSort(value):\n",
    "    parts = numbers.split(value)\n",
    "    parts[1::2] = map(int, parts[1::2])\n",
    "    return parts\n",
    "\n",
    "# Define the directory path\n",
    "directory_path = r'D:\\CV_Project\\datasets'\n",
    "\n",
    "# Find all PNG files in the directory and its subdirectories\n",
    "all_pngs = []\n",
    "for root, _, files in os.walk(directory_path):\n",
    "    png_files = sorted(glob.glob(os.path.join(root, '*.png')), key=numericalSort)\n",
    "    all_pngs.extend(png_files)\n",
    "\n",
    "# Extract image names from paths\n",
    "image_names = [os.path.basename(image_path) for image_path in all_pngs]\n",
    "\n",
    "# Initialize a dictionary to count occurrences of prefix patterns\n",
    "prefix_counts = defaultdict(int)\n",
    "\n",
    "# Count occurrences of each prefix pattern\n",
    "for string in image_names:\n",
    "    prefix = string.split('_', 2)[:2]  # Extract the prefix pattern 'i_j'\n",
    "    prefix_counts[tuple(prefix)] += 1  # Count occurrences\n",
    "\n",
    "# Find corrupted strings based on count conditions\n",
    "corrupted_strings = [string for string in image_names if prefix_counts[tuple(string.split('_', 2)[:2])] != 12]\n",
    "\n",
    "# Replace corrupted strings with None in the image_names list\n",
    "image_names = [string if string not in corrupted_strings else None for string in tqdm(image_names)]\n",
    "\n",
    "# Create a DataFrame with 'Path' and 'Filename' columns\n",
    "df = pd.DataFrame({'Path': all_pngs, 'Filename': image_names})\n",
    "\n",
    "# Display the length of the DataFrame before and after dropping rows with None values\n",
    "print(\"Length before dropping rows with None values:\", len(df))\n",
    "df.dropna(axis=0, how='any', inplace=True)\n",
    "df.reset_index(inplace=True, drop=True)\n",
    "print(\"Length after dropping rows with None values:\", len(df))\n",
    "df.to_csv('dataset.csv', index=False)\n",
    "df"
   ]
  },
  {
   "cell_type": "code",
   "execution_count": 4,
   "id": "4baf4688-7868-4d45-8cf6-5f04bc03044e",
   "metadata": {
    "scrolled": true
   },
   "outputs": [
    {
     "data": {
      "text/plain": [
       "32096"
      ]
     },
     "execution_count": 4,
     "metadata": {},
     "output_type": "execute_result"
    }
   ],
   "source": [
    "file_paths = list(df['Path'])\n",
    "label_paths = [path for path in file_paths if \"GT\" in os.path.basename(path)]\n",
    "len(label_paths)"
   ]
  },
  {
   "cell_type": "code",
   "execution_count": 6,
   "id": "112fa9db-5973-4457-87df-eff6e20b0283",
   "metadata": {},
   "outputs": [
    {
     "data": {
      "text/plain": [
       "'D:\\\\CV_Project\\\\datasets\\\\20230912\\\\Part1\\\\0_485_GT_pose_0_thermal.png'"
      ]
     },
     "execution_count": 6,
     "metadata": {},
     "output_type": "execute_result"
    }
   ],
   "source": [
    "label_paths[482]"
   ]
  },
  {
   "cell_type": "code",
   "execution_count": null,
   "id": "f7dfeb42-fc26-48d9-b100-8d1ac2697e73",
   "metadata": {},
   "outputs": [],
   "source": []
  }
 ],
 "metadata": {
  "kernelspec": {
   "display_name": "Python 3 (ipykernel)",
   "language": "python",
   "name": "python3"
  },
  "language_info": {
   "codemirror_mode": {
    "name": "ipython",
    "version": 3
   },
   "file_extension": ".py",
   "mimetype": "text/x-python",
   "name": "python",
   "nbconvert_exporter": "python",
   "pygments_lexer": "ipython3",
   "version": "3.8.17"
  }
 },
 "nbformat": 4,
 "nbformat_minor": 5
}
